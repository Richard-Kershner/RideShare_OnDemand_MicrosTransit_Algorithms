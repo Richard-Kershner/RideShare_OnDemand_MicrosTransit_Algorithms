{
 "cells": [
  {
   "cell_type": "code",
   "execution_count": 51,
   "id": "bd2ad834",
   "metadata": {},
   "outputs": [
    {
     "name": "stdout",
     "output_type": "stream",
     "text": [
      "['630 S Peck Dr', '1225 Ken Pratt Blvd']\n",
      "['1079 S Hover', '1225 Ken Pratt Blvd']\n",
      " ------ \n",
      "\n",
      "['1225 Ken Pratt Blvd', '225 E 8th Ave', 35]\n",
      "['2051 Sumac Str', '28 University Circle', 0]\n",
      "['2016 Mount Sneffels St', '422 Overbrook Ln', 25]\n",
      "['2051 Sumac Str', '420 Kimbark St', 15]\n",
      "\n",
      "['2972 Dunes Ct', '2919 17th Ave', 0]\n",
      "['1500 Kansas Ave', '3690 Oakwood Dr', 35]\n",
      "['389 Disc Dr', '512 4th Avenue', 20]\n",
      "['521 Gay St', '717 5th Ave', 30]\n",
      "\n",
      "['1500 Kansas Ave', '916 S Main St', 10]\n",
      "['512 4th Avenue', '1079 S Hover', 0]\n",
      "['10595 Butte Dr', '2080 Main St', 0]\n",
      "['916 S Main St', '1320 Monarch Ct', 15]\n",
      "--------\n",
      "['1225 Ken Pratt Blvd', '225 E 8th Ave', 35]\n",
      "['2051 Sumac Str', '28 University Circle', 0]\n",
      "['2016 Mount Sneffels St', '422 Overbrook Ln', 25]\n",
      "['2051 Sumac Str', '420 Kimbark St', 15]\n"
     ]
    }
   ],
   "source": [
    "import random\n",
    "\n",
    "class Ride_Requests():\n",
    "    def __init__(self, epochSize, groupSize, mapper):\n",
    "        \n",
    "        # format is [[addressPickUp, addressDropOff, timeRequested]]\n",
    "        self.epochList = []\n",
    "        \n",
    "        self.generateRandomEpoch(epochSize, groupSize, mapper)\n",
    "        \n",
    "        self.pnt_epoch = 0\n",
    "        \n",
    "    \n",
    "    def generateRandomEpoch(self, epochSize, groupSize, mapper):\n",
    "        pnt = 0\n",
    "        for epoch in range(epochSize):\n",
    "            self.epochList.append([])\n",
    "            for g in range(groupSize):\n",
    "                group = mapper.getRandomAddresses()\n",
    "                requestedTime = random.randint(0, 7) * 5 # generated 0 to 30 minutes in 5 minute intervals\n",
    "                group.append(requestedTime)\n",
    "                self.epochList[pnt].append(group)\n",
    "            pnt +=1\n",
    "                \n",
    "\n",
    "                \n",
    "    \n",
    "    def getNextRequestGroup(self):\n",
    "        group = self.epochList[self.pnt_epoch]\n",
    "        self.pnt_epoch += 1\n",
    "        return group\n",
    "\n",
    "    \n",
    "# =============================== testing ==========\n",
    "import sys\n",
    "sys.path.append(r'...\\modules')\n",
    "from Mapper import Mapper\n",
    "\n",
    "if __name__ == \"__main__\":\n",
    "    mapper = Mapper()\n",
    "\n",
    "    addr = mapper.getRandomAddresses()\n",
    "\n",
    "    print(addr)\n",
    "    print(mapper.getRandomAddresses())\n",
    "    print(\" ------ \")\n",
    "    \n",
    "    rideRequests = Ride_Requests(3, 4, mapper)\n",
    "    \n",
    "    for group in rideRequests.epochList:\n",
    "        print()\n",
    "        for request in group:\n",
    "            print(request)\n",
    "    print(\"--------\")       \n",
    "    group = rideRequests.getNextRequestGroup()\n",
    "    for request in group:\n",
    "        print(request)"
   ]
  },
  {
   "cell_type": "code",
   "execution_count": null,
   "id": "835e90cf",
   "metadata": {},
   "outputs": [],
   "source": []
  }
 ],
 "metadata": {
  "kernelspec": {
   "display_name": "Python 3 (ipykernel)",
   "language": "python",
   "name": "python3"
  },
  "language_info": {
   "codemirror_mode": {
    "name": "ipython",
    "version": 3
   },
   "file_extension": ".py",
   "mimetype": "text/x-python",
   "name": "python",
   "nbconvert_exporter": "python",
   "pygments_lexer": "ipython3",
   "version": "3.9.7"
  }
 },
 "nbformat": 4,
 "nbformat_minor": 5
}

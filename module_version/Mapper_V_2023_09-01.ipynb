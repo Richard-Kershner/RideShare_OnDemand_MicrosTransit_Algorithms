{
 "cells": [
  {
   "cell_type": "code",
   "execution_count": 1,
   "id": "31ea80c7",
   "metadata": {},
   "outputs": [
    {
     "name": "stdout",
     "output_type": "stream",
     "text": [
      "\n",
      "['389 Disc Dr', '390 High Point Dr']\n",
      "{'time': 16, 'distance': 6.8, 'Xs': [-105.1730059, -105.1711735, -105.1711842, -105.1180436, -105.0617141, -105.0603008, -105.0634958, -105.0612845], 'Ys': [40.1538075, 40.1539413, 40.1524307, 40.1518127, 40.16008069999999, 40.1613693, 40.1613461, 40.1654659]}\n",
      "\n",
      "['390 High Point Dr', '389 Disc Dr']\n",
      "{'time': 15, 'distance': 6.8, 'Xs': [-105.0612845, -105.0634958, -105.0603008, -105.0604703, -105.1180436, -105.1262094, -105.1711842, -105.1711735, -105.1730059], 'Ys': [40.1654659, 40.1613461, 40.1613693, 40.1605836, 40.1518127, 40.1523871, 40.1524307, 40.1539413, 40.1538075]}\n",
      "\n",
      "['28 University Circle', '2450 Airport Rd']\n",
      "{'time': 5, 'distance': 1.7, 'Xs': [-105.146247, -105.145702, -105.1456861, -105.1407466, -105.1381077, -105.144899, -105.1463803, -105.1464105, -105.1474554, -105.1473291], 'Ys': [40.18809, 40.1880924, 40.1885785, 40.1886031, 40.193214, 40.2021337, 40.2020343, 40.2022705, 40.2023268, 40.2026703]}\n",
      "\n",
      "['1636 18th Ave', '521 Gay St']\n",
      "{'time': 5, 'distance': 2.0, 'Xs': [-105.1182469, -105.1167, -105.1165296, -105.110201, -105.1102155], 'Ys': [40.191278, 40.1912645, 40.1740028, 40.1739536, 40.1680848]}\n",
      "\n",
      "['2972 Dunes Ct', '2227 Sherman St']\n",
      "{'time': 6, 'distance': 2.5, 'Xs': [-105.1411487, -105.141201, -105.1419639, -105.1448984, -105.1167814, -105.1167429, -105.1161061, -105.116078], 'Ys': [40.1959789, 40.195816, 40.1950474, 40.2032913, 40.2031897, 40.1995481, 40.199537, 40.1985463]}\n"
     ]
    }
   ],
   "source": [
    "import random\n",
    "\n",
    "class Mapper():\n",
    "    \n",
    "    def __init__(self):\n",
    "        self.mapper = dict()\n",
    "        self.loadMapperFromFile()\n",
    "    \n",
    "    def loadMapperFromFile(self):\n",
    "        fileName = 'D:/programming/school/capstone/mapperDataFromGoogle.txt'\n",
    "        with open(fileName, 'r') as file:\n",
    "            for line in file:\n",
    "                rowArray = line.split(\";;\")\n",
    "                if (rowArray[0] != \"\") and (rowArray[1] != \"\"):\n",
    "                    if rowArray[0] not in self.mapper:\n",
    "                        self.mapper[rowArray[0]] = dict()\n",
    "                    self.mapper[rowArray[0]][rowArray[1]] = dict() # add second addr.\n",
    "                    self.mapper[rowArray[0]][rowArray[1]]['time'] = int(rowArray[2])\n",
    "                    self.mapper[rowArray[0]][rowArray[1]]['distance'] = float(rowArray[3])\n",
    "                    # float_array = [float(x) for x in string_array]\n",
    "\n",
    "                    self.mapper[rowArray[0]][rowArray[1]]['Xs'] = [float(x) for x in rowArray[4].split(\",\")]\n",
    "                    self.mapper[rowArray[0]][rowArray[1]]['Ys'] = [float(x) for x in rowArray[5].split(\",\")]\n",
    "            \n",
    "            # nothing to return\n",
    "    \n",
    "    def getRandomAddresses(self):\n",
    "        address1 = random.choice(list(self.mapper.keys()))\n",
    "        address2 = random.choice(list(self.mapper[address1].keys()))\n",
    "        \n",
    "        return [address1, address2]\n",
    "    \n",
    "    def getRouteInfo(self, address1, address2):\n",
    "        \n",
    "        return self.mapper[address1][address2]\n",
    "    \n",
    "# ===================  Temp Test Script ==========================\n",
    "for x in range(5):\n",
    "    print()\n",
    "    mapper = Mapper()\n",
    "\n",
    "    addr = mapper.getRandomAddresses()\n",
    "\n",
    "    print(addr)\n",
    "    print(mapper.getRouteInfo(addr[0], addr[1]))"
   ]
  },
  {
   "cell_type": "code",
   "execution_count": 9,
   "id": "61362f52",
   "metadata": {},
   "outputs": [
    {
     "ename": "IndentationError",
     "evalue": "expected an indented block (Temp/ipykernel_11508/3152954561.py, line 7)",
     "output_type": "error",
     "traceback": [
      "\u001b[1;36m  File \u001b[1;32m\"C:\\Users\\rkers\\AppData\\Local\\Temp/ipykernel_11508/3152954561.py\"\u001b[1;36m, line \u001b[1;32m7\u001b[0m\n\u001b[1;33m    \u001b[0m\n\u001b[1;37m    ^\u001b[0m\n\u001b[1;31mIndentationError\u001b[0m\u001b[1;31m:\u001b[0m expected an indented block\n"
     ]
    }
   ],
   "source": [
    "# testing address data\n",
    "mapper = Mapper()\n",
    "for key, value in mapper.mapper.items():\n",
    "    for key2, value2 in mapper.mapper.items():\n",
    "        if key != key2:\n",
    "            if key2 not in value:\n",
    "                print(key, key2)\n",
    "                "
   ]
  },
  {
   "cell_type": "code",
   "execution_count": null,
   "id": "408936c6",
   "metadata": {},
   "outputs": [],
   "source": []
  }
 ],
 "metadata": {
  "kernelspec": {
   "display_name": "Python 3 (ipykernel)",
   "language": "python",
   "name": "python3"
  },
  "language_info": {
   "codemirror_mode": {
    "name": "ipython",
    "version": 3
   },
   "file_extension": ".py",
   "mimetype": "text/x-python",
   "name": "python",
   "nbconvert_exporter": "python",
   "pygments_lexer": "ipython3",
   "version": "3.9.7"
  }
 },
 "nbformat": 4,
 "nbformat_minor": 5
}
